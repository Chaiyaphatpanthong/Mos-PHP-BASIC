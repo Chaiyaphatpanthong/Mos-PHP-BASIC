{
  "nbformat": 4,
  "nbformat_minor": 0,
  "metadata": {
    "colab": {
      "provenance": [],
      "authorship_tag": "ABX9TyNmOVhXOwoyHtgjAQYoUHUi",
      "include_colab_link": true
    },
    "kernelspec": {
      "name": "python3",
      "display_name": "Python 3"
    },
    "language_info": {
      "name": "python"
    }
  },
  "cells": [
    {
      "cell_type": "markdown",
      "metadata": {
        "id": "view-in-github",
        "colab_type": "text"
      },
      "source": [
        "<a href=\"https://colab.research.google.com/github/Chaiyaphatpanthong/Mos-PHP-BASIC/blob/main/object_Orineted_Python.ipynb\" target=\"_parent\"><img src=\"https://colab.research.google.com/assets/colab-badge.svg\" alt=\"Open In Colab\"/></a>"
      ]
    },
    {
      "cell_type": "code",
      "execution_count": 151,
      "metadata": {
        "id": "CASVEMIOZ1j9"
      },
      "outputs": [],
      "source": [
        "from datetime import date\n",
        "#object   : varible + Method\n",
        "\n",
        "class Account :\n",
        "  def __init__(self, numID ):\n",
        "    self.number = numID\n",
        "    self.account_type()\n",
        "\n",
        "  def account_type(self):\n",
        "    if str(self.number ).startswith(\"1\"):\n",
        "      self.type = \"Current\"\n",
        "    elif str(self.number ).startswith(\"2\"):\n",
        "      self.type = \"Saving\"\n",
        "\n",
        "  def interrest_rate(self):\n",
        "\n",
        "    if self.type == \"Current\" :\n",
        "      self.interest = 0\n",
        "    elif self.type == \"Saving\" :\n",
        "      self.interest = 5 #per year\n",
        "\n",
        "      return self.interest\n",
        "\n",
        "  def interest_accrued(self):\n",
        "\n",
        "    self.interrest_rate()\n",
        "    self.balance = 1000\n",
        "\n",
        "    current_date = date.today()\n",
        "    beginning_date = date(current_date.year, 1, 1)\n",
        "\n",
        "    self.interest_accrued = self.balance * ( abs(current_date - beginning_date).days /365) *  self.interest /100\n",
        "\n",
        "    return self.interest_accrued + acc.balance\n",
        "\n"
      ]
    },
    {
      "cell_type": "code",
      "source": [
        "acc = Account(1001)"
      ],
      "metadata": {
        "id": "bHKCK-aUdVL-"
      },
      "execution_count": 155,
      "outputs": []
    },
    {
      "cell_type": "code",
      "source": [
        "acc.type"
      ],
      "metadata": {
        "colab": {
          "base_uri": "https://localhost:8080/",
          "height": 35
        },
        "id": "0Hy5HprqlPkr",
        "outputId": "a4950c8c-9e1d-4957-f2dd-26136a487ed9"
      },
      "execution_count": 156,
      "outputs": [
        {
          "output_type": "execute_result",
          "data": {
            "text/plain": [
              "'Current'"
            ],
            "application/vnd.google.colaboratory.intrinsic+json": {
              "type": "string"
            }
          },
          "metadata": {},
          "execution_count": 156
        }
      ]
    },
    {
      "cell_type": "code",
      "source": [
        "acc.interest_accrued()"
      ],
      "metadata": {
        "colab": {
          "base_uri": "https://localhost:8080/"
        },
        "id": "Z0axCrqRlRNj",
        "outputId": "209e005b-01a2-4ae9-cd1c-e73f7a46858b"
      },
      "execution_count": 157,
      "outputs": [
        {
          "output_type": "execute_result",
          "data": {
            "text/plain": [
              "1000.0"
            ]
          },
          "metadata": {},
          "execution_count": 157
        }
      ]
    },
    {
      "cell_type": "code",
      "source": [],
      "metadata": {
        "id": "HWBm7BhpqHdi"
      },
      "execution_count": null,
      "outputs": []
    }
  ]
}